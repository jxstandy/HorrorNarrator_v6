{
 "cells": [
  {
   "cell_type": "markdown",
   "metadata": {},
   "source": [
    "# 🎙️ HorrorNarrator_v6\n",
    "Paste your horror script or upload a `.txt`.\n",
    "Audio + `.srt` subtitles will auto-generate."
   ]
  },
  {
   "cell_type": "code",
   "execution_count": null,
   "metadata": {},
   "outputs": [],
   "source": [
    "!pip install bark gTTS moviepy torch numpy pysrt"
   ]
  },
  {
   "cell_type": "code",
   "execution_count": null,
   "metadata": {},
   "outputs": [],
   "source": [
    "import os, re, time, torch, numpy as np, pysrt\n",
    "from pathlib import Path\n",
    "from moviepy.editor import AudioFileClip\n",
    "from bark import SAMPLE_RATE, generate_audio, preload_models\n",
    "\n",
    "preload_models()"
   ]
  },
  {
   "cell_type": "code",
   "execution_count": null,
   "metadata": {},
   "outputs": [],
   "source": [
    "# Input: Paste text OR load .txt file\n",
    "script_text = """Paste or type your horror story here..."""\n",
    "# Or load from file\n",
    "# with open('script.txt', 'r') as f:\n",
    "#     script_text = f.read()"
   ]
  },
  {
   "cell_type": "code",
   "execution_count": null,
   "metadata": {},
   "outputs": [],
   "source": [
    "# Generate narration\n",
    "audio_array = generate_audio(script_text)\n",
    "from scipy.io.wavfile import write as write_wav\n",
    "write_wav('output.wav', SAMPLE_RATE, audio_array)\n",
    "print('Audio saved as output.wav')"
   ]
  },
  {
   "cell_type": "code",
   "execution_count": null,
   "metadata": {},
   "outputs": [],
   "source": [
    "# Generate subtitles (.srt)\n",
    "lines = script_text.split('. ')\n",
    "subs = pysrt.SubRipFile()\n",
    "start_time = 0\n",
    "for i, line in enumerate(lines, 1):\n",
    "    duration = max(2, len(line)//8)\n",
    "    subs.append(pysrt.SubRipItem(i, start_time=start_time*1000, end_time=(start_time+duration)*1000, text=line))\n",
    "    start_time += duration\n",
    "subs.save('output.srt', encoding='utf-8')\n",
    "print('Subtitles saved as output.srt')"
   ]
  }
 ],
 "metadata": {
  "colab": {
   "name": "HorrorNarrator_v6"
  },
  "kernelspec": {
   "display_name": "Python 3",
   "language": "python",
   "name": "python3"
  }
 },
 "nbformat": 4,
 "nbformat_minor": 0
}