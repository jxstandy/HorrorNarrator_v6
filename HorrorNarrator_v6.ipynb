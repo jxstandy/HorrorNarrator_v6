{
  "cells": [
    {
      "cell_type": "markdown",
      "metadata": {},
      "source": [
        "# HorrorNarrator v6 \n",
        "---\n",
        "Click below to launch in **Google Colab**: \n\n",
        "[![Open In Colab](https://colab.research.google.com/assets/colab-badge.svg)](https://colab.research.google.com/github/jxstandy/HorrorNarrator_v6/blob/main/HorrorNarrator_v6.ipynb)"
      ]
    },
    {
      "cell_type": "code",
      "execution_count": null,
      "metadata": {},
      "outputs": [],
      "source": [
        "!pip install git+https://github.com/suno-ai/bark.git torch==2.1.2 torchaudio --quiet\n",
        "from bark import generate_audio, preload_models\n",
        "from bark.generation import save_audio\n",
        "import os\n",
        "\n",
        "preload_models()\n",
        "\n",
        "script_path = "script.txt"\n",
        "if os.path.exists(script_path):\n",
        "    with open(script_path, "r", encoding="utf-8") as f:\n",
        "        script = f.read()\n",
        "else:\n",
        "    script = """Paste your script here if no file is used."""\n",
        "\n",
        "print("Generating audio...")\n",
        "audio_array = generate_audio(script, history_prompt="v2/en_speaker_1")\n",
        "save_audio("output.wav", audio_array)\n",
        "print("Saved narration as output.wav")"
      ]
    }
  ],
  "metadata": {
    "colab": {
      "name": "HorrorNarrator_v6"
    },
    "kernelspec": {
      "display_name": "Python 3",
      "language": "python",
      "name": "python3"
    }
  },
  "nbformat": 4,
  "nbformat_minor": 0
}