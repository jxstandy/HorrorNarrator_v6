{
 "cells": [
  {
   "cell_type": "markdown",
   "metadata": {},
   "source": [
    "# 🎙️ HorrorNarrator v6",
    "Paste your script in `script.txt` or below and run all cells."
   ]
  },
  {
   "cell_type": "code",
   "execution_count": null,
   "metadata": {},
   "outputs": [],
   "source": [
    "import torch, os\n",
    "from torch import serialization\n",
    "serialization.add_safe_globals([__import__('numpy').core.multiarray.scalar])\n",
    "\n",
    "# Load script\n",
    "script_file = 'script.txt'\n",
    "if os.path.exists(script_file):\n",
    "    with open(script_file, 'r', encoding='utf-8') as f:\n",
    "        script = f.read()\n",
    "else:\n",
    "    script = """Paste your script here if no file provided."""\n",
    "print('Script loaded:', script[:120], '...')"
   ]
  }
 ],
 "metadata": {
  "kernelspec": {
   "display_name": "Python 3",
   "language": "python",
   "name": "python3"
  }
 },
 "nbformat": 4,
 "nbformat_minor": 5
}