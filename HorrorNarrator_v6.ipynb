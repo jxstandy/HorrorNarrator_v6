{
 "cells": [
  {
   "cell_type": "markdown",
   "metadata": {},
   "source": [
    "# Horror Narrator v6\n",
    "This Colab notebook will turn your horror scripts into narration with subtitles.\n",
    "\n",
    "**Steps:**\n",
    "1. Upload your script as `script.txt` (or paste text inside triple quotes).\n",
    "2. Run all cells.\n",
    "3. Get audio + .srt file for subtitles.\n"
   ]
  },
  {
   "cell_type": "code",
   "execution_count": null,
   "metadata": {},
   "outputs": [],
   "source": [
    "!pip install torch torchvision torchaudio --quiet\n",
    "!pip install git+https://github.com/suno-ai/bark.git --quiet\n",
    "!pip install moviepy pysrt --quiet"
   ]
  },
  {
   "cell_type": "code",
   "execution_count": null,
   "metadata": {},
   "outputs": [],
   "source": [
    "import os, sys\n",
    "from bark import generate_audio, SAMPLE_RATE\n",
    "import scipy.io.wavfile as wavfile\n",
    "import pysrt\n",
    "\n",
    "# Choose input: paste or use script.txt\n",
    "USE_FILE = True  # change to False to paste\n",
    "\n",
    "if USE_FILE and os.path.exists('script.txt'):\n",
    "    with open('script.txt', 'r') as f:\n",
    "        script = f.read()\n",
    "else:\n",
    "    script = '''\n",
    "    Paste your horror story here...\n",
    "    '''\n",
    "\n",
    "print('Script loaded, length:', len(script))"
   ]
  },
  {
   "cell_type": "code",
   "execution_count": null,
   "metadata": {},
   "outputs": [],
   "source": [
    "# Generate audio\n",
    "audio_array = generate_audio(script)\n",
    "wavfile.write('output.wav', SAMPLE_RATE, audio_array)\n",
    "print('Saved narration as output.wav')"
   ]
  },
  {
   "cell_type": "code",
   "execution_count": null,
   "metadata": {},
   "outputs": [],
   "source": [
    "# Generate simple subtitles (.srt)\n",
    "lines = script.split('. ')\n",
    "subs = pysrt.SubRipFile()\n",
    "time = 0\n",
    "for i, line in enumerate(lines, 1):\n",
    "    start = pysrt.SubRipTime(seconds=time)\n",
    "    end = pysrt.SubRipTime(seconds=time+4)\n",
    "    subs.append(pysrt.SubRipItem(i, start, end, line.strip()))\n",
    "    time += 4\n",
    "\n",
    "subs.save('output.srt', encoding='utf-8')\n",
    "print('Saved subtitles as output.srt')"
   ]
  }
 ],
 "metadata": {
  "colab": {
   "name": "HorrorNarrator_v6",
   "provenance": []
  },
  "kernelspec": {
   "display_name": "Python 3",
   "language": "python",
   "name": "python3"
  },
  "language_info": {
   "name": "python"
  }
 },
 "nbformat": 4,
 "nbformat_minor": 0
}